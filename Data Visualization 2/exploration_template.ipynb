{
 "cells": [
  {
   "cell_type": "markdown",
   "metadata": {},
   "source": [
    "# Ford GoBike System Data\n",
    "## by Ahmed Yasser Mostafa\n",
    "\n",
    "## Preliminary Wrangling\n",
    "\n",
    "> This data set includes information about individual rides made in a bike-sharing system covering the San Francisco Bay area in 2017."
   ]
  },
  {
   "cell_type": "code",
   "execution_count": 1,
   "metadata": {},
   "outputs": [],
   "source": [
    "# import all packages and set plots to be embedded inline\n",
    "import numpy as np\n",
    "import pandas as pd\n",
    "import matplotlib.pyplot as plt\n",
    "import seaborn as sb\n",
    "\n",
    "%matplotlib inline"
   ]
  },
  {
   "cell_type": "markdown",
   "metadata": {},
   "source": [
    "> Load in your dataset and describe its properties through the questions below.\n",
    "Try and motivate your exploration goals through this section."
   ]
  },
  {
   "cell_type": "code",
   "execution_count": 2,
   "metadata": {},
   "outputs": [
    {
     "data": {
      "text/html": [
       "<div>\n",
       "<style scoped>\n",
       "    .dataframe tbody tr th:only-of-type {\n",
       "        vertical-align: middle;\n",
       "    }\n",
       "\n",
       "    .dataframe tbody tr th {\n",
       "        vertical-align: top;\n",
       "    }\n",
       "\n",
       "    .dataframe thead th {\n",
       "        text-align: right;\n",
       "    }\n",
       "</style>\n",
       "<table border=\"1\" class=\"dataframe\">\n",
       "  <thead>\n",
       "    <tr style=\"text-align: right;\">\n",
       "      <th></th>\n",
       "      <th>duration_sec</th>\n",
       "      <th>start_time</th>\n",
       "      <th>end_time</th>\n",
       "      <th>start_station_id</th>\n",
       "      <th>start_station_name</th>\n",
       "      <th>start_station_latitude</th>\n",
       "      <th>start_station_longitude</th>\n",
       "      <th>end_station_id</th>\n",
       "      <th>end_station_name</th>\n",
       "      <th>end_station_latitude</th>\n",
       "      <th>end_station_longitude</th>\n",
       "      <th>bike_id</th>\n",
       "      <th>user_type</th>\n",
       "    </tr>\n",
       "  </thead>\n",
       "  <tbody>\n",
       "    <tr>\n",
       "      <th>0</th>\n",
       "      <td>80110</td>\n",
       "      <td>2017-12-31 16:57:39.6540</td>\n",
       "      <td>2018-01-01 15:12:50.2450</td>\n",
       "      <td>74</td>\n",
       "      <td>Laguna St at Hayes St</td>\n",
       "      <td>37.776435</td>\n",
       "      <td>-122.426244</td>\n",
       "      <td>43</td>\n",
       "      <td>San Francisco Public Library (Grove St at Hyde...</td>\n",
       "      <td>37.778768</td>\n",
       "      <td>-122.415929</td>\n",
       "      <td>96</td>\n",
       "      <td>Customer</td>\n",
       "    </tr>\n",
       "  </tbody>\n",
       "</table>\n",
       "</div>"
      ],
      "text/plain": [
       "   duration_sec                start_time                  end_time  \\\n",
       "0         80110  2017-12-31 16:57:39.6540  2018-01-01 15:12:50.2450   \n",
       "\n",
       "   start_station_id     start_station_name  start_station_latitude  \\\n",
       "0                74  Laguna St at Hayes St               37.776435   \n",
       "\n",
       "   start_station_longitude  end_station_id  \\\n",
       "0              -122.426244              43   \n",
       "\n",
       "                                    end_station_name  end_station_latitude  \\\n",
       "0  San Francisco Public Library (Grove St at Hyde...             37.778768   \n",
       "\n",
       "   end_station_longitude  bike_id user_type  \n",
       "0            -122.415929       96  Customer  "
      ]
     },
     "execution_count": 2,
     "metadata": {},
     "output_type": "execute_result"
    }
   ],
   "source": [
    "# Reading dataset\n",
    "df = pd.read_csv('2017-fordgobike-tripdata.csv')\n",
    "df.head(1)"
   ]
  },
  {
   "cell_type": "code",
   "execution_count": 3,
   "metadata": {},
   "outputs": [
    {
     "data": {
      "text/plain": [
       "(519700, 13)"
      ]
     },
     "execution_count": 3,
     "metadata": {},
     "output_type": "execute_result"
    }
   ],
   "source": [
    "df.shape"
   ]
  },
  {
   "cell_type": "markdown",
   "metadata": {},
   "source": [
    "### What is the structure of your dataset?\n",
    "\n",
    "> The data consists of 519700 rows and 13 columns\n",
    "\n",
    "### What is/are the main feature(s) of interest in your dataset?\n",
    "\n",
    "> Trip Duration\n",
    "\n",
    "### What features in the dataset do you think will help support your investigation into your feature(s) of interest?\n",
    "\n",
    "> User Type, Start & end times and start & end stations' geolocations"
   ]
  },
  {
   "cell_type": "markdown",
   "metadata": {},
   "source": [
    "## Univariate Exploration\n",
    "\n",
    "> In this section, investigate distributions of individual variables. If\n",
    "you see unusual points or outliers, take a deeper look to clean things up\n",
    "and prepare yourself to look at relationships between variables."
   ]
  },
  {
   "cell_type": "markdown",
   "metadata": {},
   "source": [
    "> First, let's investigate the duration of the rides"
   ]
  },
  {
   "cell_type": "code",
   "execution_count": 4,
   "metadata": {},
   "outputs": [
    {
     "data": {
      "image/png": "[encoded data removed]",
      "text/plain": [
       "<Figure size 432x288 with 1 Axes>"
      ]
     },
     "metadata": {
      "needs_background": "light"
     },
     "output_type": "display_data"
    }
   ],
   "source": [
    "# Plotting histogram of the duration (in seconds)\n",
    "# Changing the ticks on the x-axis to be able to see the distribution better\n",
    "plt.hist(data = df, x = 'duration_sec');\n",
    "xticks = [0, 10000, 20000, 30000, 40000, 50000, 60000, 70000, 80000]\n",
    "plt.xticks(xticks, xticks);"
   ]
  },
  {
   "cell_type": "markdown",
   "metadata": {},
   "source": [
    "> So most of the rides take less than 10,000 seconds, mainly in the 0 till about 8000 region"
   ]
  },
  {
   "cell_type": "code",
   "execution_count": 5,
   "metadata": {},
   "outputs": [
    {
     "data": {
      "image/png": "[encoded data removed]",
      "text/plain": [
       "<Figure size 432x288 with 1 Axes>"
      ]
     },
     "metadata": {
      "needs_background": "light"
     },
     "output_type": "display_data"
    }
   ],
   "source": [
    "# Change binsize to 150 to see the groupings of duration better\n",
    "bins = np.arange(0, df.duration_sec.max() + 150, 150)\n",
    "plt.hist(data = df, x = 'duration_sec', bins = bins);\n",
    "plt.xlim([0, 7000]); # Duration data is motly located till about 8000 seconds hence scaling down the x-axis"
   ]
  },
  {
   "cell_type": "markdown",
   "metadata": {},
   "source": [
    "> So our data is definitely right-skewed. Most of the rides reach about 900 seconds and then others take gradully less."
   ]
  },
  {
   "cell_type": "markdown",
   "metadata": {},
   "source": [
    "> But we would still like to interpret the data in a unit other than seconds. So I will make 2 columns; one for duration in minutes (integer) and one for duration in hours (float)"
   ]
  },
  {
   "cell_type": "code",
   "execution_count": 6,
   "metadata": {},
   "outputs": [],
   "source": [
    "df['duration_min'] = df['duration_sec'] / 60 # Define new column that includes ride duration in minutes (1 minute = 60 seconds)\n",
    "df['duration_hour'] = df['duration_min'] / 60 #Define new column that includes ride duration in hours (1 hour = 60 minutes)\n",
    "df = df.round({'duration_hour': 2, 'duration_min': 0}) # Allow duration (in hours) to have 2 decimal places and duration (in minutes) to have no decimal places\n",
    "df.duration_min = df.duration_min.astype(int) # Convert ride duration in minutes columns to integer type "
   ]
  },
  {
   "cell_type": "code",
   "execution_count": 7,
   "metadata": {},
   "outputs": [
    {
     "data": {
      "text/html": [
       "<div>\n",
       "<style scoped>\n",
       "    .dataframe tbody tr th:only-of-type {\n",
       "        vertical-align: middle;\n",
       "    }\n",
       "\n",
       "    .dataframe tbody tr th {\n",
       "        vertical-align: top;\n",
       "    }\n",
       "\n",
       "    .dataframe thead th {\n",
       "        text-align: right;\n",
       "    }\n",
       "</style>\n",
       "<table border=\"1\" class=\"dataframe\">\n",
       "  <thead>\n",
       "    <tr style=\"text-align: right;\">\n",
       "      <th></th>\n",
       "      <th>duration_sec</th>\n",
       "      <th>start_time</th>\n",
       "      <th>end_time</th>\n",
       "      <th>start_station_id</th>\n",
       "      <th>start_station_name</th>\n",
       "      <th>start_station_latitude</th>\n",
       "      <th>start_station_longitude</th>\n",
       "      <th>end_station_id</th>\n",
       "      <th>end_station_name</th>\n",
       "      <th>end_station_latitude</th>\n",
       "      <th>end_station_longitude</th>\n",
       "      <th>bike_id</th>\n",
       "      <th>user_type</th>\n",
       "      <th>duration_min</th>\n",
       "      <th>duration_hour</th>\n",
       "    </tr>\n",
       "  </thead>\n",
       "  <tbody>\n",
       "    <tr>\n",
       "      <th>0</th>\n",
       "      <td>80110</td>\n",
       "      <td>2017-12-31 16:57:39.6540</td>\n",
       "      <td>2018-01-01 15:12:50.2450</td>\n",
       "      <td>74</td>\n",
       "      <td>Laguna St at Hayes St</td>\n",
       "      <td>37.776435</td>\n",
       "      <td>-122.426244</td>\n",
       "      <td>43</td>\n",
       "      <td>San Francisco Public Library (Grove St at Hyde...</td>\n",
       "      <td>37.778768</td>\n",
       "      <td>-122.415929</td>\n",
       "      <td>96</td>\n",
       "      <td>Customer</td>\n",
       "      <td>1335</td>\n",
       "      <td>22.25</td>\n",
       "    </tr>\n",
       "    <tr>\n",
       "      <th>1</th>\n",
       "      <td>78800</td>\n",
       "      <td>2017-12-31 15:56:34.8420</td>\n",
       "      <td>2018-01-01 13:49:55.6170</td>\n",
       "      <td>284</td>\n",
       "      <td>Yerba Buena Center for the Arts (Howard St at ...</td>\n",
       "      <td>37.784872</td>\n",
       "      <td>-122.400876</td>\n",
       "      <td>96</td>\n",
       "      <td>Dolores St at 15th St</td>\n",
       "      <td>37.766210</td>\n",
       "      <td>-122.426614</td>\n",
       "      <td>88</td>\n",
       "      <td>Customer</td>\n",
       "      <td>1313</td>\n",
       "      <td>21.89</td>\n",
       "    </tr>\n",
       "    <tr>\n",
       "      <th>2</th>\n",
       "      <td>45768</td>\n",
       "      <td>2017-12-31 22:45:48.4110</td>\n",
       "      <td>2018-01-01 11:28:36.8830</td>\n",
       "      <td>245</td>\n",
       "      <td>Downtown Berkeley BART</td>\n",
       "      <td>37.870348</td>\n",
       "      <td>-122.267764</td>\n",
       "      <td>245</td>\n",
       "      <td>Downtown Berkeley BART</td>\n",
       "      <td>37.870348</td>\n",
       "      <td>-122.267764</td>\n",
       "      <td>1094</td>\n",
       "      <td>Customer</td>\n",
       "      <td>763</td>\n",
       "      <td>12.71</td>\n",
       "    </tr>\n",
       "  </tbody>\n",
       "</table>\n",
       "</div>"
      ],
      "text/plain": [
       "   duration_sec                start_time                  end_time  \\\n",
       "0         80110  2017-12-31 16:57:39.6540  2018-01-01 15:12:50.2450   \n",
       "1         78800  2017-12-31 15:56:34.8420  2018-01-01 13:49:55.6170   \n",
       "2         45768  2017-12-31 22:45:48.4110  2018-01-01 11:28:36.8830   \n",
       "\n",
       "   start_station_id                                 start_station_name  \\\n",
       "0                74                              Laguna St at Hayes St   \n",
       "1               284  Yerba Buena Center for the Arts (Howard St at ...   \n",
       "2               245                             Downtown Berkeley BART   \n",
       "\n",
       "   start_station_latitude  start_station_longitude  end_station_id  \\\n",
       "0               37.776435              -122.426244              43   \n",
       "1               37.784872              -122.400876              96   \n",
       "2               37.870348              -122.267764             245   \n",
       "\n",
       "                                    end_station_name  end_station_latitude  \\\n",
       "0  San Francisco Public Library (Grove St at Hyde...             37.778768   \n",
       "1                              Dolores St at 15th St             37.766210   \n",
       "2                             Downtown Berkeley BART             37.870348   \n",
       "\n",
       "   end_station_longitude  bike_id user_type  duration_min  duration_hour  \n",
       "0            -122.415929       96  Customer          1335          22.25  \n",
       "1            -122.426614       88  Customer          1313          21.89  \n",
       "2            -122.267764     1094  Customer           763          12.71  "
      ]
     },
     "execution_count": 7,
     "metadata": {},
     "output_type": "execute_result"
    }
   ],
   "source": [
    "df.head(3)"
   ]
  },
  {
   "cell_type": "code",
   "execution_count": 8,
   "metadata": {},
   "outputs": [
    {
     "data": {
      "image/png": "[encoded data removed]",
      "text/plain": [
       "<Figure size 432x288 with 1 Axes>"
      ]
     },
     "metadata": {
      "needs_background": "light"
     },
     "output_type": "display_data"
    }
   ],
   "source": [
    "plt.hist(data = df, x = 'duration_min');"
   ]
  },
  {
   "cell_type": "markdown",
   "metadata": {},
   "source": [
    "> Now we can see that most rides take up to about 170 minutes"
   ]
  },
  {
   "cell_type": "code",
   "execution_count": 63,
   "metadata": {},
   "outputs": [
    {
     "data": {
      "image/png": "[encoded data removed]",
      "text/plain": [
       "<Figure size 432x288 with 1 Axes>"
      ]
     },
     "metadata": {
      "needs_background": "light"
     },
     "output_type": "display_data"
    }
   ],
   "source": [
    "# Change binsize to 2 to see the groupings of duration better\n",
    "bins = np.arange(0, df.duration_min.max() + 2, 2)\n",
    "plt.hist(data = df, x = 'duration_min', bins = bins);\n",
    "plt.xlim([0, 180]); # Duration data is motly located till about 180 minutes hence scaling down the x-axis"
   ]
  },
  {
   "cell_type": "code",
   "execution_count": 47,
   "metadata": {},
   "outputs": [
    {
     "data": {
      "text/plain": [
       "count    5.713842\n",
       "mean     1.181140\n",
       "std      1.392173\n",
       "min      0.000000\n",
       "25%      0.778151\n",
       "50%      1.000000\n",
       "75%      1.204120\n",
       "max      2.556303\n",
       "Name: duration_min, dtype: float64"
      ]
     },
     "execution_count": 47,
     "metadata": {},
     "output_type": "execute_result"
    }
   ],
   "source": [
    "# Checking the statistics for the duration (in minutes) after logarithmic transformation\n",
    "np.log10(df.duration_min.describe())"
   ]
  },
  {
   "cell_type": "code",
   "execution_count": 62,
   "metadata": {},
   "outputs": [
    {
     "data": {
      "image/png": "[encoded data removed]",
      "text/plain": [
       "<Figure size 432x288 with 1 Axes>"
      ]
     },
     "metadata": {
      "needs_background": "light"
     },
     "output_type": "display_data"
    }
   ],
   "source": [
    "# Changing the x-axis scale to a logarithmic one\n",
    "bins = 10 ** np.arange(0, 2.56 + 0.2, 0.2) # min: 0, max: 2.56, binsize = 0.2\n",
    "plt.hist(data = df, x = 'duration_min', bins = bins);\n",
    "plt.xscale('log');\n",
    "plt.xticks([1, 2, 5, 10, 25, 50, 100, 200, 500], [1, 2, 5, 10, 25, 50, 100, 200, 500]); # Changing the default powers of 10 ticks to more readable ticks"
   ]
  },
  {
   "cell_type": "markdown",
   "metadata": {},
   "source": [
    "> Now the plot is much better to interpret as we can see that most of the rides occupy from 1 to 60 minutes"
   ]
  },
  {
   "cell_type": "markdown",
   "metadata": {},
   "source": [
    "> Finally, I want to check for outliers and the rides that take too much time"
   ]
  },
  {
   "cell_type": "code",
   "execution_count": 10,
   "metadata": {},
   "outputs": [
    {
     "data": {
      "image/png": "[encoded data removed]",
      "text/plain": [
       "<Figure size 432x288 with 1 Axes>"
      ]
     },
     "metadata": {
      "needs_background": "light"
     },
     "output_type": "display_data"
    }
   ],
   "source": [
    "temp = df[df['duration_hour'] > 4] # Defining dataframe that contains all ride durations (in hours) more than 4 hours\n",
    "bins = np.arange(temp.duration_hour.min(), temp.duration_hour.max()+1, 1) # Change binsize to 1 to better see distribution\n",
    "plt.hist(data = temp, x = 'duration_hour');\n",
    "xticks = [4, 6, 8, 10, 12, 14, 16, 18, 20, 22, 24] # Adding more ticks on x-axis\n",
    "plt.xticks(xticks, xticks);"
   ]
  },
  {
   "cell_type": "code",
   "execution_count": 11,
   "metadata": {},
   "outputs": [
    {
     "data": {
      "text/html": [
       "<div>\n",
       "<style scoped>\n",
       "    .dataframe tbody tr th:only-of-type {\n",
       "        vertical-align: middle;\n",
       "    }\n",
       "\n",
       "    .dataframe tbody tr th {\n",
       "        vertical-align: top;\n",
       "    }\n",
       "\n",
       "    .dataframe thead th {\n",
       "        text-align: right;\n",
       "    }\n",
       "</style>\n",
       "<table border=\"1\" class=\"dataframe\">\n",
       "  <thead>\n",
       "    <tr style=\"text-align: right;\">\n",
       "      <th></th>\n",
       "      <th>duration_sec</th>\n",
       "      <th>start_time</th>\n",
       "      <th>end_time</th>\n",
       "      <th>start_station_id</th>\n",
       "      <th>start_station_name</th>\n",
       "      <th>start_station_latitude</th>\n",
       "      <th>start_station_longitude</th>\n",
       "      <th>end_station_id</th>\n",
       "      <th>end_station_name</th>\n",
       "      <th>end_station_latitude</th>\n",
       "      <th>end_station_longitude</th>\n",
       "      <th>bike_id</th>\n",
       "      <th>user_type</th>\n",
       "      <th>duration_min</th>\n",
       "      <th>duration_hour</th>\n",
       "    </tr>\n",
       "  </thead>\n",
       "  <tbody>\n",
       "    <tr>\n",
       "      <th>0</th>\n",
       "      <td>80110</td>\n",
       "      <td>2017-12-31 16:57:39.6540</td>\n",
       "      <td>2018-01-01 15:12:50.2450</td>\n",
       "      <td>74</td>\n",
       "      <td>Laguna St at Hayes St</td>\n",
       "      <td>37.776435</td>\n",
       "      <td>-122.426244</td>\n",
       "      <td>43</td>\n",
       "      <td>San Francisco Public Library (Grove St at Hyde...</td>\n",
       "      <td>37.778768</td>\n",
       "      <td>-122.415929</td>\n",
       "      <td>96</td>\n",
       "      <td>Customer</td>\n",
       "      <td>1335</td>\n",
       "      <td>22.25</td>\n",
       "    </tr>\n",
       "    <tr>\n",
       "      <th>1</th>\n",
       "      <td>78800</td>\n",
       "      <td>2017-12-31 15:56:34.8420</td>\n",
       "      <td>2018-01-01 13:49:55.6170</td>\n",
       "      <td>284</td>\n",
       "      <td>Yerba Buena Center for the Arts (Howard St at ...</td>\n",
       "      <td>37.784872</td>\n",
       "      <td>-122.400876</td>\n",
       "      <td>96</td>\n",
       "      <td>Dolores St at 15th St</td>\n",
       "      <td>37.766210</td>\n",
       "      <td>-122.426614</td>\n",
       "      <td>88</td>\n",
       "      <td>Customer</td>\n",
       "      <td>1313</td>\n",
       "      <td>21.89</td>\n",
       "    </tr>\n",
       "    <tr>\n",
       "      <th>2</th>\n",
       "      <td>45768</td>\n",
       "      <td>2017-12-31 22:45:48.4110</td>\n",
       "      <td>2018-01-01 11:28:36.8830</td>\n",
       "      <td>245</td>\n",
       "      <td>Downtown Berkeley BART</td>\n",
       "      <td>37.870348</td>\n",
       "      <td>-122.267764</td>\n",
       "      <td>245</td>\n",
       "      <td>Downtown Berkeley BART</td>\n",
       "      <td>37.870348</td>\n",
       "      <td>-122.267764</td>\n",
       "      <td>1094</td>\n",
       "      <td>Customer</td>\n",
       "      <td>763</td>\n",
       "      <td>12.71</td>\n",
       "    </tr>\n",
       "    <tr>\n",
       "      <th>3</th>\n",
       "      <td>62172</td>\n",
       "      <td>2017-12-31 17:31:10.6360</td>\n",
       "      <td>2018-01-01 10:47:23.5310</td>\n",
       "      <td>60</td>\n",
       "      <td>8th St at Ringold St</td>\n",
       "      <td>37.774520</td>\n",
       "      <td>-122.409449</td>\n",
       "      <td>5</td>\n",
       "      <td>Powell St BART Station (Market St at 5th St)</td>\n",
       "      <td>37.783899</td>\n",
       "      <td>-122.408445</td>\n",
       "      <td>2831</td>\n",
       "      <td>Customer</td>\n",
       "      <td>1036</td>\n",
       "      <td>17.27</td>\n",
       "    </tr>\n",
       "    <tr>\n",
       "      <th>4</th>\n",
       "      <td>43603</td>\n",
       "      <td>2017-12-31 14:23:14.0010</td>\n",
       "      <td>2018-01-01 02:29:57.5710</td>\n",
       "      <td>239</td>\n",
       "      <td>Bancroft Way at Telegraph Ave</td>\n",
       "      <td>37.868813</td>\n",
       "      <td>-122.258764</td>\n",
       "      <td>247</td>\n",
       "      <td>Fulton St at Bancroft Way</td>\n",
       "      <td>37.867789</td>\n",
       "      <td>-122.265896</td>\n",
       "      <td>3167</td>\n",
       "      <td>Subscriber</td>\n",
       "      <td>727</td>\n",
       "      <td>12.11</td>\n",
       "    </tr>\n",
       "    <tr>\n",
       "      <th>...</th>\n",
       "      <td>...</td>\n",
       "      <td>...</td>\n",
       "      <td>...</td>\n",
       "      <td>...</td>\n",
       "      <td>...</td>\n",
       "      <td>...</td>\n",
       "      <td>...</td>\n",
       "      <td>...</td>\n",
       "      <td>...</td>\n",
       "      <td>...</td>\n",
       "      <td>...</td>\n",
       "      <td>...</td>\n",
       "      <td>...</td>\n",
       "      <td>...</td>\n",
       "      <td>...</td>\n",
       "    </tr>\n",
       "    <tr>\n",
       "      <th>517763</th>\n",
       "      <td>62356</td>\n",
       "      <td>2017-06-29 16:29:47.9920</td>\n",
       "      <td>2017-06-30 09:49:04.8180</td>\n",
       "      <td>50</td>\n",
       "      <td>2nd St at Townsend St - Coming Soon</td>\n",
       "      <td>37.780526</td>\n",
       "      <td>-122.390288</td>\n",
       "      <td>22</td>\n",
       "      <td>Howard St at Beale St</td>\n",
       "      <td>37.789756</td>\n",
       "      <td>-122.394643</td>\n",
       "      <td>255</td>\n",
       "      <td>Subscriber</td>\n",
       "      <td>1039</td>\n",
       "      <td>17.32</td>\n",
       "    </tr>\n",
       "    <tr>\n",
       "      <th>518086</th>\n",
       "      <td>25453</td>\n",
       "      <td>2017-06-29 13:26:20.8700</td>\n",
       "      <td>2017-06-29 20:30:34.8050</td>\n",
       "      <td>17</td>\n",
       "      <td>Embarcadero BART Station (Beale St at Market St)</td>\n",
       "      <td>37.792251</td>\n",
       "      <td>-122.397086</td>\n",
       "      <td>67</td>\n",
       "      <td>San Francisco Caltrain Station 2  (Townsend St...</td>\n",
       "      <td>37.776639</td>\n",
       "      <td>-122.395526</td>\n",
       "      <td>278</td>\n",
       "      <td>Customer</td>\n",
       "      <td>424</td>\n",
       "      <td>7.07</td>\n",
       "    </tr>\n",
       "    <tr>\n",
       "      <th>518507</th>\n",
       "      <td>31303</td>\n",
       "      <td>2017-06-29 07:19:09.8220</td>\n",
       "      <td>2017-06-29 16:00:53.0040</td>\n",
       "      <td>24</td>\n",
       "      <td>Spear St at Folsom St</td>\n",
       "      <td>37.789677</td>\n",
       "      <td>-122.390428</td>\n",
       "      <td>24</td>\n",
       "      <td>Spear St at Folsom St</td>\n",
       "      <td>37.789677</td>\n",
       "      <td>-122.390428</td>\n",
       "      <td>1040</td>\n",
       "      <td>Subscriber</td>\n",
       "      <td>522</td>\n",
       "      <td>8.70</td>\n",
       "    </tr>\n",
       "    <tr>\n",
       "      <th>518582</th>\n",
       "      <td>70584</td>\n",
       "      <td>2017-06-28 18:21:27.2290</td>\n",
       "      <td>2017-06-29 13:57:51.6200</td>\n",
       "      <td>58</td>\n",
       "      <td>Market St at 10th St</td>\n",
       "      <td>37.776619</td>\n",
       "      <td>-122.417385</td>\n",
       "      <td>59</td>\n",
       "      <td>S Van Ness Ave at Market St</td>\n",
       "      <td>37.774814</td>\n",
       "      <td>-122.418954</td>\n",
       "      <td>599</td>\n",
       "      <td>Customer</td>\n",
       "      <td>1176</td>\n",
       "      <td>19.61</td>\n",
       "    </tr>\n",
       "    <tr>\n",
       "      <th>519077</th>\n",
       "      <td>25364</td>\n",
       "      <td>2017-06-28 15:18:29.5030</td>\n",
       "      <td>2017-06-28 22:21:13.5820</td>\n",
       "      <td>28</td>\n",
       "      <td>The Embarcadero at Bryant St</td>\n",
       "      <td>37.787168</td>\n",
       "      <td>-122.388098</td>\n",
       "      <td>30</td>\n",
       "      <td>San Francisco Caltrain (Townsend St at 4th St)</td>\n",
       "      <td>37.776598</td>\n",
       "      <td>-122.395282</td>\n",
       "      <td>831</td>\n",
       "      <td>Customer</td>\n",
       "      <td>423</td>\n",
       "      <td>7.05</td>\n",
       "    </tr>\n",
       "  </tbody>\n",
       "</table>\n",
       "<p>2281 rows × 15 columns</p>\n",
       "</div>"
      ],
      "text/plain": [
       "        duration_sec                start_time                  end_time  \\\n",
       "0              80110  2017-12-31 16:57:39.6540  2018-01-01 15:12:50.2450   \n",
       "1              78800  2017-12-31 15:56:34.8420  2018-01-01 13:49:55.6170   \n",
       "2              45768  2017-12-31 22:45:48.4110  2018-01-01 11:28:36.8830   \n",
       "3              62172  2017-12-31 17:31:10.6360  2018-01-01 10:47:23.5310   \n",
       "4              43603  2017-12-31 14:23:14.0010  2018-01-01 02:29:57.5710   \n",
       "...              ...                       ...                       ...   \n",
       "517763         62356  2017-06-29 16:29:47.9920  2017-06-30 09:49:04.8180   \n",
       "518086         25453  2017-06-29 13:26:20.8700  2017-06-29 20:30:34.8050   \n",
       "518507         31303  2017-06-29 07:19:09.8220  2017-06-29 16:00:53.0040   \n",
       "518582         70584  2017-06-28 18:21:27.2290  2017-06-29 13:57:51.6200   \n",
       "519077         25364  2017-06-28 15:18:29.5030  2017-06-28 22:21:13.5820   \n",
       "\n",
       "        start_station_id                                 start_station_name  \\\n",
       "0                     74                              Laguna St at Hayes St   \n",
       "1                    284  Yerba Buena Center for the Arts (Howard St at ...   \n",
       "2                    245                             Downtown Berkeley BART   \n",
       "3                     60                               8th St at Ringold St   \n",
       "4                    239                      Bancroft Way at Telegraph Ave   \n",
       "...                  ...                                                ...   \n",
       "517763                50                2nd St at Townsend St - Coming Soon   \n",
       "518086                17   Embarcadero BART Station (Beale St at Market St)   \n",
       "518507                24                              Spear St at Folsom St   \n",
       "518582                58                               Market St at 10th St   \n",
       "519077                28                       The Embarcadero at Bryant St   \n",
       "\n",
       "        start_station_latitude  start_station_longitude  end_station_id  \\\n",
       "0                    37.776435              -122.426244              43   \n",
       "1                    37.784872              -122.400876              96   \n",
       "2                    37.870348              -122.267764             245   \n",
       "3                    37.774520              -122.409449               5   \n",
       "4                    37.868813              -122.258764             247   \n",
       "...                        ...                      ...             ...   \n",
       "517763               37.780526              -122.390288              22   \n",
       "518086               37.792251              -122.397086              67   \n",
       "518507               37.789677              -122.390428              24   \n",
       "518582               37.776619              -122.417385              59   \n",
       "519077               37.787168              -122.388098              30   \n",
       "\n",
       "                                         end_station_name  \\\n",
       "0       San Francisco Public Library (Grove St at Hyde...   \n",
       "1                                   Dolores St at 15th St   \n",
       "2                                  Downtown Berkeley BART   \n",
       "3            Powell St BART Station (Market St at 5th St)   \n",
       "4                               Fulton St at Bancroft Way   \n",
       "...                                                   ...   \n",
       "517763                              Howard St at Beale St   \n",
       "518086  San Francisco Caltrain Station 2  (Townsend St...   \n",
       "518507                              Spear St at Folsom St   \n",
       "518582                        S Van Ness Ave at Market St   \n",
       "519077     San Francisco Caltrain (Townsend St at 4th St)   \n",
       "\n",
       "        end_station_latitude  end_station_longitude  bike_id   user_type  \\\n",
       "0                  37.778768            -122.415929       96    Customer   \n",
       "1                  37.766210            -122.426614       88    Customer   \n",
       "2                  37.870348            -122.267764     1094    Customer   \n",
       "3                  37.783899            -122.408445     2831    Customer   \n",
       "4                  37.867789            -122.265896     3167  Subscriber   \n",
       "...                      ...                    ...      ...         ...   \n",
       "517763             37.789756            -122.394643      255  Subscriber   \n",
       "518086             37.776639            -122.395526      278    Customer   \n",
       "518507             37.789677            -122.390428     1040  Subscriber   \n",
       "518582             37.774814            -122.418954      599    Customer   \n",
       "519077             37.776598            -122.395282      831    Customer   \n",
       "\n",
       "        duration_min  duration_hour  \n",
       "0               1335          22.25  \n",
       "1               1313          21.89  \n",
       "2                763          12.71  \n",
       "3               1036          17.27  \n",
       "4                727          12.11  \n",
       "...              ...            ...  \n",
       "517763          1039          17.32  \n",
       "518086           424           7.07  \n",
       "518507           522           8.70  \n",
       "518582          1176          19.61  \n",
       "519077           423           7.05  \n",
       "\n",
       "[2281 rows x 15 columns]"
      ]
     },
     "execution_count": 11,
     "metadata": {},
     "output_type": "execute_result"
    }
   ],
   "source": [
    "df[df['duration_hour'] > 6] # Checking all rides with duration (in hours) more than 6 hours"
   ]
  },
  {
   "cell_type": "code",
   "execution_count": 12,
   "metadata": {},
   "outputs": [
    {
     "data": {
      "text/plain": [
       "0.4389070617664037"
      ]
     },
     "execution_count": 12,
     "metadata": {},
     "output_type": "execute_result"
    }
   ],
   "source": [
    "(df[df['duration_hour'] > 6].shape[0] / df.shape[0]) * 100 # Checking percentage of rows that contain ride durations greater than 6 hours"
   ]
  },
  {
   "cell_type": "markdown",
   "metadata": {},
   "source": [
    "> There seems to be a small number of rides that take more than 6 hours which is unusual. After a quick investigation, the latitude and longitudes of the start and stations seem also to be near each other. A possible explanation is that the users paid a lot to keep the bikes for these long whiles. \n",
    "\n",
    "> Since these rows make up only 0.44 % of the whole dataset, we can safely drop them."
   ]
  },
  {
   "cell_type": "code",
   "execution_count": 13,
   "metadata": {},
   "outputs": [],
   "source": [
    "df = df[df.duration_hour < 6] # Dropping rows that contain ride durations greater than or equal to 6 hours"
   ]
  },
  {
   "cell_type": "markdown",
   "metadata": {},
   "source": [
    "> Next, let's check the distribution of the user types"
   ]
  },
  {
   "cell_type": "code",
   "execution_count": 14,
   "metadata": {},
   "outputs": [
    {
     "data": {
      "image/png": "[encoded data removed]",
      "text/plain": [
       "<Figure size 432x288 with 1 Axes>"
      ]
     },
     "metadata": {
      "needs_background": "light"
     },
     "output_type": "display_data"
    }
   ],
   "source": [
    "# Checking count of users in each type\n",
    "sb.countplot(data = df, x = 'user_type', color = sb.color_palette()[0]);"
   ]
  },
  {
   "cell_type": "markdown",
   "metadata": {},
   "source": [
    "> So the number of subscribers is almost 4 times the number of normal customers"
   ]
  },
  {
   "cell_type": "markdown",
   "metadata": {},
   "source": [
    "> Next, I want to check the number of rides in each month of the year"
   ]
  },
  {
   "cell_type": "code",
   "execution_count": 15,
   "metadata": {},
   "outputs": [
    {
     "data": {
      "text/html": [
       "<div>\n",
       "<style scoped>\n",
       "    .dataframe tbody tr th:only-of-type {\n",
       "        vertical-align: middle;\n",
       "    }\n",
       "\n",
       "    .dataframe tbody tr th {\n",
       "        vertical-align: top;\n",
       "    }\n",
       "\n",
       "    .dataframe thead th {\n",
       "        text-align: right;\n",
       "    }\n",
       "</style>\n",
       "<table border=\"1\" class=\"dataframe\">\n",
       "  <thead>\n",
       "    <tr style=\"text-align: right;\">\n",
       "      <th></th>\n",
       "      <th>duration_sec</th>\n",
       "      <th>start_time</th>\n",
       "      <th>end_time</th>\n",
       "      <th>start_station_id</th>\n",
       "      <th>start_station_name</th>\n",
       "      <th>start_station_latitude</th>\n",
       "      <th>start_station_longitude</th>\n",
       "      <th>end_station_id</th>\n",
       "      <th>end_station_name</th>\n",
       "      <th>end_station_latitude</th>\n",
       "      <th>end_station_longitude</th>\n",
       "      <th>bike_id</th>\n",
       "      <th>user_type</th>\n",
       "      <th>duration_min</th>\n",
       "      <th>duration_hour</th>\n",
       "      <th>month</th>\n",
       "    </tr>\n",
       "  </thead>\n",
       "  <tbody>\n",
       "    <tr>\n",
       "      <th>5</th>\n",
       "      <td>9226</td>\n",
       "      <td>2017-12-31 22:51:00.9180</td>\n",
       "      <td>2018-01-01 01:24:47.1660</td>\n",
       "      <td>30</td>\n",
       "      <td>San Francisco Caltrain (Townsend St at 4th St)</td>\n",
       "      <td>37.776598</td>\n",
       "      <td>-122.395282</td>\n",
       "      <td>30</td>\n",
       "      <td>San Francisco Caltrain (Townsend St at 4th St)</td>\n",
       "      <td>37.776598</td>\n",
       "      <td>-122.395282</td>\n",
       "      <td>1487</td>\n",
       "      <td>Customer</td>\n",
       "      <td>154</td>\n",
       "      <td>2.56</td>\n",
       "      <td>12</td>\n",
       "    </tr>\n",
       "  </tbody>\n",
       "</table>\n",
       "</div>"
      ],
      "text/plain": [
       "   duration_sec                start_time                  end_time  \\\n",
       "5          9226  2017-12-31 22:51:00.9180  2018-01-01 01:24:47.1660   \n",
       "\n",
       "   start_station_id                              start_station_name  \\\n",
       "5                30  San Francisco Caltrain (Townsend St at 4th St)   \n",
       "\n",
       "   start_station_latitude  start_station_longitude  end_station_id  \\\n",
       "5               37.776598              -122.395282              30   \n",
       "\n",
       "                                 end_station_name  end_station_latitude  \\\n",
       "5  San Francisco Caltrain (Townsend St at 4th St)             37.776598   \n",
       "\n",
       "   end_station_longitude  bike_id user_type  duration_min  duration_hour  \\\n",
       "5            -122.395282     1487  Customer           154           2.56   \n",
       "\n",
       "   month  \n",
       "5     12  "
      ]
     },
     "execution_count": 15,
     "metadata": {},
     "output_type": "execute_result"
    }
   ],
   "source": [
    "df['month'] = pd.DatetimeIndex(df['start_time']).month # Define new column which extracts the month from the timestamp of the start time\n",
    "df.head(1)"
   ]
  },
  {
   "cell_type": "code",
   "execution_count": 16,
   "metadata": {},
   "outputs": [],
   "source": [
    "# Map the month (represented in int) to month (represented in String)\n",
    "months = {1:\"January\", 2: \"February\", 3: \"March\", 4: \"April\", 5: \"May\", 6: \"June\", \n",
    "          7: \"July\", 8: \"August\", 9: \"September\", 10: \"October\", 11: \"November\", 12: \"December\"} \n",
    "\n",
    "df[\"month\"] = df[\"month\"].map(months) "
   ]
  },
  {
   "cell_type": "code",
   "execution_count": 17,
   "metadata": {},
   "outputs": [
    {
     "data": {
      "text/plain": [
       "array(['December', 'November', 'October', 'September', 'August', 'July',\n",
       "       'June'], dtype=object)"
      ]
     },
     "execution_count": 17,
     "metadata": {},
     "output_type": "execute_result"
    }
   ],
   "source": [
    "df.month.unique()"
   ]
  },
  {
   "cell_type": "code",
   "execution_count": 18,
   "metadata": {},
   "outputs": [
    {
     "data": {
      "image/png": "[encoded data removed]",
      "text/plain": [
       "<Figure size 576x576 with 1 Axes>"
      ]
     },
     "metadata": {
      "needs_background": "light"
     },
     "output_type": "display_data"
    }
   ],
   "source": [
    "ordered_months = ['June', 'July', \"August\", \"September\", \"October\", 'November', 'December'] # List of months in the dataset (but in correct order)\n",
    "months_order = pd.api.types.CategoricalDtype(ordered = True, categories = ordered_months) # Defining an ordered categorical data type for the month column\n",
    "df['month'] = df['month'].astype(months_order) # Set the month's data type to be the same as the the defined data type\n",
    "plt.figure(figsize = (8, 8));\n",
    "sb.countplot(data = df, x = 'month', color = sb.color_palette()[0]); # Plotting bar chart for the month column\n",
    "plt.xticks(rotation = 90); # Rotate labels on x-axis to be more readable"
   ]
  },
  {
   "cell_type": "markdown",
   "metadata": {},
   "source": [
    "> So the data only shows rides from june till the end of the year. Most of the rides are taken towards the end of the year (starting from August primarily)"
   ]
  },
  {
   "cell_type": "markdown",
   "metadata": {},
   "source": [
    "> Finally, I want to calculate the distance between the geo-coordinates and see the distribution of the distances covered in the rides\n",
    "\n",
    "> geopy library takes the latitude and longitude of each of the start and end destinations and returns the distance in kilometres \n",
    "\n",
    "> The next cell requires installing the package first and executing it took a couple of minutes"
   ]
  },
  {
   "cell_type": "code",
   "execution_count": 20,
   "metadata": {},
   "outputs": [
    {
     "name": "stdout",
     "output_type": "stream",
     "text": [
      "Requirement already satisfied: geopy in c:\\users\\asus\\appdata\\roaming\\python\\python37\\site-packages (2.0.0)\n",
      "Requirement already satisfied: geographiclib<2,>=1.49 in c:\\users\\asus\\appdata\\roaming\\python\\python37\\site-packages (from geopy) (1.50)\n"
     ]
    }
   ],
   "source": [
    "!pip install geopy"
   ]
  },
  {
   "cell_type": "code",
   "execution_count": 22,
   "metadata": {},
   "outputs": [],
   "source": [
    "from geopy import distance\n",
    "\n",
    "# Defining new column, distance (in kilometers), which is a result of a function that takes  \n",
    "# latitude and longitude of 2 geo coordinates and calculates the result as distance in kilometers\n",
    "\n",
    "# The function is predefined in the geopy library\n",
    "\n",
    "df['distance'] = df.apply(lambda row: distance.distance((row['start_station_latitude'], row['start_station_longitude']),\n",
    "                                   (row['end_station_latitude'], row['end_station_longitude'])).km, axis=1)"
   ]
  },
  {
   "cell_type": "code",
   "execution_count": 23,
   "metadata": {},
   "outputs": [
    {
     "data": {
      "image/png": "[encoded data removed]",
      "text/plain": [
       "<Figure size 432x288 with 1 Axes>"
      ]
     },
     "metadata": {
      "needs_background": "light"
     },
     "output_type": "display_data"
    }
   ],
   "source": [
    "# Plotting distribution of the distances covered in the rides\n",
    "plt.hist(data = df, x = 'distance');"
   ]
  },
  {
   "cell_type": "code",
   "execution_count": 24,
   "metadata": {},
   "outputs": [
    {
     "data": {
      "image/png": "[encoded data removed]",
      "text/plain": [
       "<Figure size 432x288 with 1 Axes>"
      ]
     },
     "metadata": {
      "needs_background": "light"
     },
     "output_type": "display_data"
    }
   ],
   "source": [
    "# Changing the bins to 0.1 to better see groupings of distance\n",
    "bins = np.arange(0, df.distance.max()+0.1, 0.1)\n",
    "plt.hist(data = df, x = 'distance', bins = bins);\n",
    "plt.xlim([0,7]); # Since distances covered is till 7 kilometers, we limit the x-axis till that number"
   ]
  },
  {
   "cell_type": "markdown",
   "metadata": {},
   "source": [
    "> Nothing really surprising in the distribution other than the presence of a number of 0 distance values. Let's check why those occur"
   ]
  },
  {
   "cell_type": "code",
   "execution_count": 38,
   "metadata": {},
   "outputs": [
    {
     "data": {
      "text/html": [
       "<div>\n",
       "<style scoped>\n",
       "    .dataframe tbody tr th:only-of-type {\n",
       "        vertical-align: middle;\n",
       "    }\n",
       "\n",
       "    .dataframe tbody tr th {\n",
       "        vertical-align: top;\n",
       "    }\n",
       "\n",
       "    .dataframe thead th {\n",
       "        text-align: right;\n",
       "    }\n",
       "</style>\n",
       "<table border=\"1\" class=\"dataframe\">\n",
       "  <thead>\n",
       "    <tr style=\"text-align: right;\">\n",
       "      <th></th>\n",
       "      <th>duration_sec</th>\n",
       "      <th>start_time</th>\n",
       "      <th>end_time</th>\n",
       "      <th>start_station_id</th>\n",
       "      <th>start_station_name</th>\n",
       "      <th>start_station_latitude</th>\n",
       "      <th>start_station_longitude</th>\n",
       "      <th>end_station_id</th>\n",
       "      <th>end_station_name</th>\n",
       "      <th>end_station_latitude</th>\n",
       "      <th>end_station_longitude</th>\n",
       "      <th>bike_id</th>\n",
       "      <th>user_type</th>\n",
       "      <th>duration_min</th>\n",
       "      <th>duration_hour</th>\n",
       "      <th>month</th>\n",
       "      <th>distance</th>\n",
       "    </tr>\n",
       "  </thead>\n",
       "  <tbody>\n",
       "    <tr>\n",
       "      <th>5</th>\n",
       "      <td>9226</td>\n",
       "      <td>2017-12-31 22:51:00.9180</td>\n",
       "      <td>2018-01-01 01:24:47.1660</td>\n",
       "      <td>30</td>\n",
       "      <td>San Francisco Caltrain (Townsend St at 4th St)</td>\n",
       "      <td>37.776598</td>\n",
       "      <td>-122.395282</td>\n",
       "      <td>30</td>\n",
       "      <td>San Francisco Caltrain (Townsend St at 4th St)</td>\n",
       "      <td>37.776598</td>\n",
       "      <td>-122.395282</td>\n",
       "      <td>1487</td>\n",
       "      <td>Customer</td>\n",
       "      <td>154</td>\n",
       "      <td>2.56</td>\n",
       "      <td>December</td>\n",
       "      <td>0.0</td>\n",
       "    </tr>\n",
       "    <tr>\n",
       "      <th>6</th>\n",
       "      <td>4507</td>\n",
       "      <td>2017-12-31 23:49:28.4220</td>\n",
       "      <td>2018-01-01 01:04:35.6190</td>\n",
       "      <td>259</td>\n",
       "      <td>Addison St at Fourth St</td>\n",
       "      <td>37.866249</td>\n",
       "      <td>-122.299371</td>\n",
       "      <td>259</td>\n",
       "      <td>Addison St at Fourth St</td>\n",
       "      <td>37.866249</td>\n",
       "      <td>-122.299371</td>\n",
       "      <td>3539</td>\n",
       "      <td>Customer</td>\n",
       "      <td>75</td>\n",
       "      <td>1.25</td>\n",
       "      <td>December</td>\n",
       "      <td>0.0</td>\n",
       "    </tr>\n",
       "    <tr>\n",
       "      <th>7</th>\n",
       "      <td>4334</td>\n",
       "      <td>2017-12-31 23:46:37.1960</td>\n",
       "      <td>2018-01-01 00:58:51.2110</td>\n",
       "      <td>284</td>\n",
       "      <td>Yerba Buena Center for the Arts (Howard St at ...</td>\n",
       "      <td>37.784872</td>\n",
       "      <td>-122.400876</td>\n",
       "      <td>284</td>\n",
       "      <td>Yerba Buena Center for the Arts (Howard St at ...</td>\n",
       "      <td>37.784872</td>\n",
       "      <td>-122.400876</td>\n",
       "      <td>1503</td>\n",
       "      <td>Customer</td>\n",
       "      <td>72</td>\n",
       "      <td>1.20</td>\n",
       "      <td>December</td>\n",
       "      <td>0.0</td>\n",
       "    </tr>\n",
       "    <tr>\n",
       "      <th>8</th>\n",
       "      <td>4150</td>\n",
       "      <td>2017-12-31 23:37:07.5480</td>\n",
       "      <td>2018-01-01 00:46:18.3080</td>\n",
       "      <td>20</td>\n",
       "      <td>Mechanics Monument Plaza (Market St at Bush St)</td>\n",
       "      <td>37.791300</td>\n",
       "      <td>-122.399051</td>\n",
       "      <td>20</td>\n",
       "      <td>Mechanics Monument Plaza (Market St at Bush St)</td>\n",
       "      <td>37.791300</td>\n",
       "      <td>-122.399051</td>\n",
       "      <td>3125</td>\n",
       "      <td>Customer</td>\n",
       "      <td>69</td>\n",
       "      <td>1.15</td>\n",
       "      <td>December</td>\n",
       "      <td>0.0</td>\n",
       "    </tr>\n",
       "    <tr>\n",
       "      <th>9</th>\n",
       "      <td>4238</td>\n",
       "      <td>2017-12-31 23:35:38.1450</td>\n",
       "      <td>2018-01-01 00:46:17.0530</td>\n",
       "      <td>20</td>\n",
       "      <td>Mechanics Monument Plaza (Market St at Bush St)</td>\n",
       "      <td>37.791300</td>\n",
       "      <td>-122.399051</td>\n",
       "      <td>20</td>\n",
       "      <td>Mechanics Monument Plaza (Market St at Bush St)</td>\n",
       "      <td>37.791300</td>\n",
       "      <td>-122.399051</td>\n",
       "      <td>2543</td>\n",
       "      <td>Customer</td>\n",
       "      <td>71</td>\n",
       "      <td>1.18</td>\n",
       "      <td>December</td>\n",
       "      <td>0.0</td>\n",
       "    </tr>\n",
       "    <tr>\n",
       "      <th>49</th>\n",
       "      <td>782</td>\n",
       "      <td>2017-12-31 23:15:25.7580</td>\n",
       "      <td>2017-12-31 23:28:28.3720</td>\n",
       "      <td>6</td>\n",
       "      <td>The Embarcadero at Sansome St</td>\n",
       "      <td>37.804770</td>\n",
       "      <td>-122.403234</td>\n",
       "      <td>6</td>\n",
       "      <td>The Embarcadero at Sansome St</td>\n",
       "      <td>37.804770</td>\n",
       "      <td>-122.403234</td>\n",
       "      <td>1691</td>\n",
       "      <td>Customer</td>\n",
       "      <td>13</td>\n",
       "      <td>0.22</td>\n",
       "      <td>December</td>\n",
       "      <td>0.0</td>\n",
       "    </tr>\n",
       "    <tr>\n",
       "      <th>50</th>\n",
       "      <td>799</td>\n",
       "      <td>2017-12-31 23:15:08.3850</td>\n",
       "      <td>2017-12-31 23:28:28.2040</td>\n",
       "      <td>6</td>\n",
       "      <td>The Embarcadero at Sansome St</td>\n",
       "      <td>37.804770</td>\n",
       "      <td>-122.403234</td>\n",
       "      <td>6</td>\n",
       "      <td>The Embarcadero at Sansome St</td>\n",
       "      <td>37.804770</td>\n",
       "      <td>-122.403234</td>\n",
       "      <td>533</td>\n",
       "      <td>Customer</td>\n",
       "      <td>13</td>\n",
       "      <td>0.22</td>\n",
       "      <td>December</td>\n",
       "      <td>0.0</td>\n",
       "    </tr>\n",
       "    <tr>\n",
       "      <th>51</th>\n",
       "      <td>575</td>\n",
       "      <td>2017-12-31 23:17:57.8670</td>\n",
       "      <td>2017-12-31 23:27:32.8800</td>\n",
       "      <td>6</td>\n",
       "      <td>The Embarcadero at Sansome St</td>\n",
       "      <td>37.804770</td>\n",
       "      <td>-122.403234</td>\n",
       "      <td>6</td>\n",
       "      <td>The Embarcadero at Sansome St</td>\n",
       "      <td>37.804770</td>\n",
       "      <td>-122.403234</td>\n",
       "      <td>1568</td>\n",
       "      <td>Customer</td>\n",
       "      <td>10</td>\n",
       "      <td>0.16</td>\n",
       "      <td>December</td>\n",
       "      <td>0.0</td>\n",
       "    </tr>\n",
       "    <tr>\n",
       "      <th>61</th>\n",
       "      <td>2659</td>\n",
       "      <td>2017-12-31 22:23:06.1720</td>\n",
       "      <td>2017-12-31 23:07:25.7570</td>\n",
       "      <td>230</td>\n",
       "      <td>14th St at Mandela Pkwy</td>\n",
       "      <td>37.810743</td>\n",
       "      <td>-122.291415</td>\n",
       "      <td>230</td>\n",
       "      <td>14th St at Mandela Pkwy</td>\n",
       "      <td>37.810743</td>\n",
       "      <td>-122.291415</td>\n",
       "      <td>2335</td>\n",
       "      <td>Customer</td>\n",
       "      <td>44</td>\n",
       "      <td>0.74</td>\n",
       "      <td>December</td>\n",
       "      <td>0.0</td>\n",
       "    </tr>\n",
       "    <tr>\n",
       "      <th>64</th>\n",
       "      <td>547</td>\n",
       "      <td>2017-12-31 22:52:35.8490</td>\n",
       "      <td>2017-12-31 23:01:43.1780</td>\n",
       "      <td>30</td>\n",
       "      <td>San Francisco Caltrain (Townsend St at 4th St)</td>\n",
       "      <td>37.776598</td>\n",
       "      <td>-122.395282</td>\n",
       "      <td>30</td>\n",
       "      <td>San Francisco Caltrain (Townsend St at 4th St)</td>\n",
       "      <td>37.776598</td>\n",
       "      <td>-122.395282</td>\n",
       "      <td>2732</td>\n",
       "      <td>Subscriber</td>\n",
       "      <td>9</td>\n",
       "      <td>0.15</td>\n",
       "      <td>December</td>\n",
       "      <td>0.0</td>\n",
       "    </tr>\n",
       "  </tbody>\n",
       "</table>\n",
       "</div>"
      ],
      "text/plain": [
       "    duration_sec                start_time                  end_time  \\\n",
       "5           9226  2017-12-31 22:51:00.9180  2018-01-01 01:24:47.1660   \n",
       "6           4507  2017-12-31 23:49:28.4220  2018-01-01 01:04:35.6190   \n",
       "7           4334  2017-12-31 23:46:37.1960  2018-01-01 00:58:51.2110   \n",
       "8           4150  2017-12-31 23:37:07.5480  2018-01-01 00:46:18.3080   \n",
       "9           4238  2017-12-31 23:35:38.1450  2018-01-01 00:46:17.0530   \n",
       "49           782  2017-12-31 23:15:25.7580  2017-12-31 23:28:28.3720   \n",
       "50           799  2017-12-31 23:15:08.3850  2017-12-31 23:28:28.2040   \n",
       "51           575  2017-12-31 23:17:57.8670  2017-12-31 23:27:32.8800   \n",
       "61          2659  2017-12-31 22:23:06.1720  2017-12-31 23:07:25.7570   \n",
       "64           547  2017-12-31 22:52:35.8490  2017-12-31 23:01:43.1780   \n",
       "\n",
       "    start_station_id                                 start_station_name  \\\n",
       "5                 30     San Francisco Caltrain (Townsend St at 4th St)   \n",
       "6                259                            Addison St at Fourth St   \n",
       "7                284  Yerba Buena Center for the Arts (Howard St at ...   \n",
       "8                 20    Mechanics Monument Plaza (Market St at Bush St)   \n",
       "9                 20    Mechanics Monument Plaza (Market St at Bush St)   \n",
       "49                 6                      The Embarcadero at Sansome St   \n",
       "50                 6                      The Embarcadero at Sansome St   \n",
       "51                 6                      The Embarcadero at Sansome St   \n",
       "61               230                            14th St at Mandela Pkwy   \n",
       "64                30     San Francisco Caltrain (Townsend St at 4th St)   \n",
       "\n",
       "    start_station_latitude  start_station_longitude  end_station_id  \\\n",
       "5                37.776598              -122.395282              30   \n",
       "6                37.866249              -122.299371             259   \n",
       "7                37.784872              -122.400876             284   \n",
       "8                37.791300              -122.399051              20   \n",
       "9                37.791300              -122.399051              20   \n",
       "49               37.804770              -122.403234               6   \n",
       "50               37.804770              -122.403234               6   \n",
       "51               37.804770              -122.403234               6   \n",
       "61               37.810743              -122.291415             230   \n",
       "64               37.776598              -122.395282              30   \n",
       "\n",
       "                                     end_station_name  end_station_latitude  \\\n",
       "5      San Francisco Caltrain (Townsend St at 4th St)             37.776598   \n",
       "6                             Addison St at Fourth St             37.866249   \n",
       "7   Yerba Buena Center for the Arts (Howard St at ...             37.784872   \n",
       "8     Mechanics Monument Plaza (Market St at Bush St)             37.791300   \n",
       "9     Mechanics Monument Plaza (Market St at Bush St)             37.791300   \n",
       "49                      The Embarcadero at Sansome St             37.804770   \n",
       "50                      The Embarcadero at Sansome St             37.804770   \n",
       "51                      The Embarcadero at Sansome St             37.804770   \n",
       "61                            14th St at Mandela Pkwy             37.810743   \n",
       "64     San Francisco Caltrain (Townsend St at 4th St)             37.776598   \n",
       "\n",
       "    end_station_longitude  bike_id   user_type  duration_min  duration_hour  \\\n",
       "5             -122.395282     1487    Customer           154           2.56   \n",
       "6             -122.299371     3539    Customer            75           1.25   \n",
       "7             -122.400876     1503    Customer            72           1.20   \n",
       "8             -122.399051     3125    Customer            69           1.15   \n",
       "9             -122.399051     2543    Customer            71           1.18   \n",
       "49            -122.403234     1691    Customer            13           0.22   \n",
       "50            -122.403234      533    Customer            13           0.22   \n",
       "51            -122.403234     1568    Customer            10           0.16   \n",
       "61            -122.291415     2335    Customer            44           0.74   \n",
       "64            -122.395282     2732  Subscriber             9           0.15   \n",
       "\n",
       "       month  distance  \n",
       "5   December       0.0  \n",
       "6   December       0.0  \n",
       "7   December       0.0  \n",
       "8   December       0.0  \n",
       "9   December       0.0  \n",
       "49  December       0.0  \n",
       "50  December       0.0  \n",
       "51  December       0.0  \n",
       "61  December       0.0  \n",
       "64  December       0.0  "
      ]
     },
     "execution_count": 38,
     "metadata": {},
     "output_type": "execute_result"
    }
   ],
   "source": [
    "df[df['distance'] == 0].head(10) # Checking rows where the distance is 0 kilometers"
   ]
  },
  {
   "cell_type": "markdown",
   "metadata": {},
   "source": [
    "> So the reason for this 0 distance value is that the start & end stations are the same. So the rider probably took the bike to ride somewhere and return the bike to the station."
   ]
  },
  {
   "cell_type": "markdown",
   "metadata": {},
   "source": [
    "> Make sure that, after every plot or related series of plots, that you\n",
    "include a Markdown cell with comments about what you observed, and what\n",
    "you plan on investigating next."
   ]
  },
  {
   "cell_type": "markdown",
   "metadata": {},
   "source": [
    "### Discuss the distribution(s) of your variable(s) of interest. Were there any unusual points? Did you need to perform any transformations?\n",
    "\n",
    "> The duration of the ride: In order to better see its distribution, I feature engineered a second column which was the duration in minutes. The distribution of this column was right skewed with most of the rides not exceeding 60 minutes.\n",
    "\n",
    "### Of the features you investigated, were there any unusual distributions? Did you perform any operations on the data to tidy, adjust, or change the form of the data? If so, why did you do this?\n",
    "\n",
    "> The distribution of the user types is that surprisingly the number of subscribers is almost 4 times the number of normal customers. No transformations were needed.\n",
    "\n",
    "> I wanted to check if there were outliers in the duration of the rides so I feature engineerd a duration in hours column in order to check for these outliers. There were over 1500 rows that exceeded 6 hours of ride duration and the latitude and longitudes of the start and stations seemed also to be near each other. Since these outliers only made up about 0.44% of the data, they were removed from the dataframe.\n",
    "\n",
    "> The presence of 0 distances in the feature engineered column (distance between 2 geo locations). But the reason for this 0 distance value was that the start & end stations were the same"
   ]
  },
  {
   "cell_type": "markdown",
   "metadata": {},
   "source": [
    "## Bivariate Exploration\n",
    "\n",
    "> In this section, investigate relationships between pairs of variables in your\n",
    "data. Make sure the variables that you cover here have been introduced in some\n",
    "fashion in the previous section (univariate exploration)."
   ]
  },
  {
   "cell_type": "code",
   "execution_count": 25,
   "metadata": {},
   "outputs": [
    {
     "data": {
      "text/html": [
       "<div>\n",
       "<style scoped>\n",
       "    .dataframe tbody tr th:only-of-type {\n",
       "        vertical-align: middle;\n",
       "    }\n",
       "\n",
       "    .dataframe tbody tr th {\n",
       "        vertical-align: top;\n",
       "    }\n",
       "\n",
       "    .dataframe thead th {\n",
       "        text-align: right;\n",
       "    }\n",
       "</style>\n",
       "<table border=\"1\" class=\"dataframe\">\n",
       "  <thead>\n",
       "    <tr style=\"text-align: right;\">\n",
       "      <th></th>\n",
       "      <th>duration_sec</th>\n",
       "      <th>start_time</th>\n",
       "      <th>end_time</th>\n",
       "      <th>start_station_id</th>\n",
       "      <th>start_station_name</th>\n",
       "      <th>start_station_latitude</th>\n",
       "      <th>start_station_longitude</th>\n",
       "      <th>end_station_id</th>\n",
       "      <th>end_station_name</th>\n",
       "      <th>end_station_latitude</th>\n",
       "      <th>end_station_longitude</th>\n",
       "      <th>bike_id</th>\n",
       "      <th>user_type</th>\n",
       "      <th>duration_min</th>\n",
       "      <th>duration_hour</th>\n",
       "      <th>month</th>\n",
       "      <th>distance</th>\n",
       "    </tr>\n",
       "  </thead>\n",
       "  <tbody>\n",
       "    <tr>\n",
       "      <th>5</th>\n",
       "      <td>9226</td>\n",
       "      <td>2017-12-31 22:51:00.9180</td>\n",
       "      <td>2018-01-01 01:24:47.1660</td>\n",
       "      <td>30</td>\n",
       "      <td>San Francisco Caltrain (Townsend St at 4th St)</td>\n",
       "      <td>37.776598</td>\n",
       "      <td>-122.395282</td>\n",
       "      <td>30</td>\n",
       "      <td>San Francisco Caltrain (Townsend St at 4th St)</td>\n",
       "      <td>37.776598</td>\n",
       "      <td>-122.395282</td>\n",
       "      <td>1487</td>\n",
       "      <td>Customer</td>\n",
       "      <td>154</td>\n",
       "      <td>2.56</td>\n",
       "      <td>December</td>\n",
       "      <td>0.0</td>\n",
       "    </tr>\n",
       "    <tr>\n",
       "      <th>6</th>\n",
       "      <td>4507</td>\n",
       "      <td>2017-12-31 23:49:28.4220</td>\n",
       "      <td>2018-01-01 01:04:35.6190</td>\n",
       "      <td>259</td>\n",
       "      <td>Addison St at Fourth St</td>\n",
       "      <td>37.866249</td>\n",
       "      <td>-122.299371</td>\n",
       "      <td>259</td>\n",
       "      <td>Addison St at Fourth St</td>\n",
       "      <td>37.866249</td>\n",
       "      <td>-122.299371</td>\n",
       "      <td>3539</td>\n",
       "      <td>Customer</td>\n",
       "      <td>75</td>\n",
       "      <td>1.25</td>\n",
       "      <td>December</td>\n",
       "      <td>0.0</td>\n",
       "    </tr>\n",
       "  </tbody>\n",
       "</table>\n",
       "</div>"
      ],
      "text/plain": [
       "   duration_sec                start_time                  end_time  \\\n",
       "5          9226  2017-12-31 22:51:00.9180  2018-01-01 01:24:47.1660   \n",
       "6          4507  2017-12-31 23:49:28.4220  2018-01-01 01:04:35.6190   \n",
       "\n",
       "   start_station_id                              start_station_name  \\\n",
       "5                30  San Francisco Caltrain (Townsend St at 4th St)   \n",
       "6               259                         Addison St at Fourth St   \n",
       "\n",
       "   start_station_latitude  start_station_longitude  end_station_id  \\\n",
       "5               37.776598              -122.395282              30   \n",
       "6               37.866249              -122.299371             259   \n",
       "\n",
       "                                 end_station_name  end_station_latitude  \\\n",
       "5  San Francisco Caltrain (Townsend St at 4th St)             37.776598   \n",
       "6                         Addison St at Fourth St             37.866249   \n",
       "\n",
       "   end_station_longitude  bike_id user_type  duration_min  duration_hour  \\\n",
       "5            -122.395282     1487  Customer           154           2.56   \n",
       "6            -122.299371     3539  Customer            75           1.25   \n",
       "\n",
       "      month  distance  \n",
       "5  December       0.0  \n",
       "6  December       0.0  "
      ]
     },
     "execution_count": 25,
     "metadata": {},
     "output_type": "execute_result"
    }
   ],
   "source": [
    "df.head(2)"
   ]
  },
  {
   "cell_type": "markdown",
   "metadata": {},
   "source": [
    "#### Duration, user type, month, distance"
   ]
  },
  {
   "cell_type": "markdown",
   "metadata": {},
   "source": [
    "> First, let's investigate the average duration of the rides for each of the user types"
   ]
  },
  {
   "cell_type": "code",
   "execution_count": 26,
   "metadata": {},
   "outputs": [
    {
     "data": {
      "image/png": "[encoded data removed]",
      "text/plain": [
       "<Figure size 432x288 with 1 Axes>"
      ]
     },
     "metadata": {
      "needs_background": "light"
     },
     "output_type": "display_data"
    }
   ],
   "source": [
    "# Average of duration (in minutes) for each user type\n",
    "sb.barplot(data = df, x = 'user_type', y = 'duration_min', color = sb.color_palette()[0]);"
   ]
  },
  {
   "cell_type": "markdown",
   "metadata": {},
   "source": [
    "> So the average ride for customers is almost three times higher than the subscriber's. That could be because subscribers usually take rides more frequently than customers.\n",
    "\n",
    "> Since we already know that the number of subscribers is much higher than customers, I didn't use the violinplot."
   ]
  },
  {
   "cell_type": "markdown",
   "metadata": {},
   "source": [
    "> Now let's look at the distances and durations covered in the rides in each month"
   ]
  },
  {
   "cell_type": "code",
   "execution_count": 29,
   "metadata": {},
   "outputs": [
    {
     "data": {
      "image/png": "[encoded data removed]",
      "text/plain": [
       "<Figure size 720x504 with 1 Axes>"
      ]
     },
     "metadata": {
      "needs_background": "light"
     },
     "output_type": "display_data"
    }
   ],
   "source": [
    "# Distribution of distances in each month\n",
    "plt.figure(figsize = (10,7));\n",
    "sb.boxplot(data = df, x = 'month', y = 'distance', color = sb.color_palette()[1], fliersize = 2);\n",
    "plt.ylim([0, 10]);"
   ]
  },
  {
   "cell_type": "markdown",
   "metadata": {},
   "source": [
    "> No difference really in the distances covered in each month"
   ]
  },
  {
   "cell_type": "code",
   "execution_count": 32,
   "metadata": {},
   "outputs": [
    {
     "data": {
      "image/png": "[encoded data removed]",
      "text/plain": [
       "<Figure size 720x504 with 1 Axes>"
      ]
     },
     "metadata": {
      "needs_background": "light"
     },
     "output_type": "display_data"
    }
   ],
   "source": [
    "# Distribution of durations (in minutes) in each month\n",
    "plt.figure(figsize = (10,7));\n",
    "sb.boxplot(data = df, x = 'month', y = 'duration_min', color = sb.color_palette()[1], fliersize = 2); # Plotting boxplot wbere the y-axis is the duration (in minutes) and the x-axis is the months column, changing the fliersize to 2 to decrease the outlier points' size\n",
    "plt.ylim([0, 90]); # Limiting the outliers number "
   ]
  },
  {
   "cell_type": "markdown",
   "metadata": {},
   "source": [
    "> Also no difference really in the durations covered in each month"
   ]
  },
  {
   "cell_type": "markdown",
   "metadata": {},
   "source": [
    "> Finally, let's see the number of rides in each month per user"
   ]
  },
  {
   "cell_type": "code",
   "execution_count": 59,
   "metadata": {},
   "outputs": [
    {
     "data": {
      "image/png": "[encoded data removed]",
      "text/plain": [
       "<Figure size 720x432 with 1 Axes>"
      ]
     },
     "metadata": {
      "needs_background": "light"
     },
     "output_type": "display_data"
    }
   ],
   "source": [
    "plt.figure(figsize = (10,6))\n",
    "ax = sb.countplot(data = df, x = 'month', hue = 'user_type'); \n",
    "ax.legend(loc = 0, ncol = 2); # loc = 0 (means best positions) & ncol = 2 (number of values in the column = 2)"
   ]
  },
  {
   "cell_type": "markdown",
   "metadata": {},
   "source": [
    "> So the frequency of both user types are almost the same when talking about when the rides are taken. The only difference is that customers take rides in September the most while subscribers take in October the most."
   ]
  },
  {
   "cell_type": "markdown",
   "metadata": {},
   "source": [
    "### Talk about some of the relationships you observed in this part of the investigation. How did the feature(s) of interest vary with other features in the dataset?\n",
    "\n",
    "> The features used to observe relationships between were duration (feature of interest), user type, distance and month of the ride (other features).\n",
    "\n",
    "> A relationship between user type and duration was plotted. Surprising, the average ride for customers is almost three times higher than the subscriber's. That could be because subscribers usually take rides more frequently than customers. \n",
    "\n",
    "> The relationship between duration and the month of the ride was plotted but it showed nothing significant as almost every month had the same distribution.\n",
    "\n",
    "### Did you observe any interesting relationships between the other features (not the main feature(s) of interest)?\n",
    "\n",
    "> I also saw the number of rides in each month for every user. The frequency of both user types were almost the same when talking about when the rides are taken. The only difference is that customers take rides in September the most while subscribers take in October the most.\n",
    "\n",
    "> The relationship between the distance and the month of the ride was plotted but it showed nothing significant as almost every month had the same distribution."
   ]
  },
  {
   "cell_type": "markdown",
   "metadata": {},
   "source": [
    "## Multivariate Exploration\n",
    "\n",
    "> Create plots of three or more variables to investigate your data even\n",
    "further. Make sure that your investigations are justified, and follow from\n",
    "your work in the previous sections."
   ]
  },
  {
   "cell_type": "code",
   "execution_count": 37,
   "metadata": {},
   "outputs": [
    {
     "name": "stderr",
     "output_type": "stream",
     "text": [
      "C:\\ProgramData\\Anaconda3\\lib\\site-packages\\seaborn\\axisgrid.py:243: UserWarning: The `size` parameter has been renamed to `height`; please update your code.\n",
      "  warnings.warn(msg, UserWarning)\n",
      "C:\\ProgramData\\Anaconda3\\lib\\site-packages\\seaborn\\axisgrid.py:728: UserWarning: Using the barplot function without specifying `order` is likely to produce an incorrect plot.\n",
      "  warnings.warn(warning)\n"
     ]
    },
    {
     "data": {
      "image/png": "[encoded data removed]",
      "text/plain": [
       "<Figure size 864x432 with 7 Axes>"
      ]
     },
     "metadata": {
      "needs_background": "light"
     },
     "output_type": "display_data"
    }
   ],
   "source": [
    "# Plotting the dataframe on multiple levels (levels of the month) where the plot itself will be a barplot. X-axis is user type and y-axis is average of duration (in minutes)\n",
    "g = sb.FacetGrid(data = df, col = 'month', size = 3, col_wrap = 4); # Size = 3 to increase the graph size and col_wrap = 4 means plot every 4 graphs beside each other\n",
    "g.map(sb.barplot, 'user_type', 'duration_min', color = sb.color_palette()[0]);"
   ]
  },
  {
   "cell_type": "markdown",
   "metadata": {},
   "source": [
    "### Talk about some of the relationships you observed in this part of the investigation. Were there features that strengthened each other in terms of looking at your feature(s) of interest?\n",
    "\n",
    "> I made a visualization showing the duration of rides taken by each user type per month. Earlier, we had seen that the average duration of the normal customer is almost 3 times that of the subscriber. Now when I saw that relation each month, the average duration of the subscriber was surprising more than that of the customer in June and November. So this changes the idea that the customer always spends more time on the bike than the subscriber."
   ]
  },
  {
   "cell_type": "markdown",
   "metadata": {},
   "source": [
    "> At the end of your report, make sure that you export the notebook as an\n",
    "html file from the `File > Download as... > HTML` menu. Make sure you keep\n",
    "track of where the exported file goes, so you can put it in the same folder\n",
    "as this notebook for project submission. Also, make sure you remove all of\n",
    "the quote-formatted guide notes like this one before you finish your report!"
   ]
  },
  {
   "cell_type": "code",
   "execution_count": null,
   "metadata": {},
   "outputs": [],
   "source": []
  }
 ],
 "metadata": {
  "kernelspec": {
   "display_name": "Python 3",
   "language": "python",
   "name": "python3"
  },
  "language_info": {
   "codemirror_mode": {
    "name": "ipython",
    "version": 3
   },
   "file_extension": ".py",
   "mimetype": "text/x-python",
   "name": "python",
   "nbconvert_exporter": "python",
   "pygments_lexer": "ipython3",
   "version": "3.7.6"
  }
 },
 "nbformat": 4,
 "nbformat_minor": 2
}
